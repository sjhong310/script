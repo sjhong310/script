{
 "cells": [
  {
   "cell_type": "markdown",
   "metadata": {},
   "source": [
    "## Draw boxes on images from xml annotation files"
   ]
  },
  {
   "cell_type": "code",
   "execution_count": 54,
   "metadata": {},
   "outputs": [],
   "source": [
    "import xml.etree.ElementTree as ET\n",
    "import os\n",
    "import numpy as np\n",
    "\n",
    "\n",
    "def draw_box_xml(img, anno):\n",
    "    \"\"\"Draw box on image\n",
    "    \n",
    "    Args:\n",
    "        img(ndarray): image file array\n",
    "        anno(xml.etree.ElementTree.Element): annotation element\n",
    "        \n",
    "    Returns:\n",
    "        img(ndarray): image with box array\n",
    "    \"\"\"\n",
    "    for obj in anno.findall('object'):\n",
    "        x1 = int(float(obj.find('robndbox').find('x1').text))\n",
    "        x2 = int(float(obj.find('robndbox').find('x2').text))\n",
    "        x3 = int(float(obj.find('robndbox').find('x3').text))\n",
    "        x4 = int(float(obj.find('robndbox').find('x4').text))\n",
    "        \n",
    "        y1 = int(float(obj.find('robndbox').find('y1').text))\n",
    "        y2 = int(float(obj.find('robndbox').find('y2').text))\n",
    "        y3 = int(float(obj.find('robndbox').find('y3').text))\n",
    "        y4 = int(float(obj.find('robndbox').find('y4').text))\n",
    "                \n",
    "        p1 = (x1, y1)\n",
    "        p2 = (x2, y2)\n",
    "        p3 = (x3, y3)\n",
    "        p4 = (x4, y4)\n",
    "        ps = np.int0(np.array([p1, p2, p3, p4]))\n",
    "        \n",
    "        box_color = (0, 0, 255) if obj.find('name').text == 'ship' else (255, 0, 0)\n",
    "        cv2.drawContours(img, [ps], -1, box_color, thickness=1)\n",
    "    \n",
    "    return img\n",
    "    "
   ]
  },
  {
   "cell_type": "code",
   "execution_count": 56,
   "metadata": {},
   "outputs": [],
   "source": [
    "for anno_name in os.listdir('img_tif/annotations'):\n",
    "    tree = ET.parse(os.path.join('img_tif', 'annotations', anno_name))\n",
    "    root = tree.getroot()\n",
    "    img_name = os.path.basename(root.find('path').text)\n",
    "    img = cv2.imread(os.path.join('img_tif', 'patch', img_name))\n",
    "    assert x is not None, 'Image not exists on the path: {}'.format(os.path.join('img_tif', 'patch', img_name))\n",
    "    drawn_img = draw_box_xml(img, root)\n",
    "    cv2.imwrite(os.path.join('img_tif', 'images_sample', img_name), drawn_img)"
   ]
  },
  {
   "cell_type": "markdown",
   "metadata": {},
   "source": [
    "## Draw boxes on images from COCO annotation files"
   ]
  },
  {
   "cell_type": "code",
   "execution_count": 60,
   "metadata": {},
   "outputs": [
    {
     "name": "stdout",
     "output_type": "stream",
     "text": [
      "loading annotations into memory...\n",
      "Done (t=0.04s)\n",
      "creating index...\n",
      "index created!\n",
      "Total images:  539\n",
      "Images saved:  100\n",
      "Done\n"
     ]
    }
   ],
   "source": [
    "import json\n",
    "import cv2\n",
    "import os\n",
    "import numpy as np\n",
    "from pycocotools.coco import COCO\n",
    "\n",
    "dataset = 'val'\n",
    "annotation_path = os.path.join(dataset, f'{dataset}_annotations.json')\n",
    "img_home = os.path.join(dataset, 'patch_img')\n",
    "vis_home = os.path.join(dataset, 'patch_img_gt_vis')\n",
    "box_color = (255, 0, 255)\n",
    "\n",
    "os.makedirs(vis_home, exist_ok=True)\n",
    "\n",
    "coco = COCO(annotation_path)\n",
    "\n",
    "cnt = 0\n",
    "ann_cnt = 0\n",
    "for img_id in range(len(coco.getImgIds())):\n",
    "    ann_ids =  coco.getAnnIds(imgIds=[img_id])\n",
    "    if not ann_ids:\n",
    "        continue\n",
    "        \n",
    "    img_name = coco.loadImgs(ids=[img_id])[0]['file_name']\n",
    "    img_path = os.path.join(img_home, img_name)\n",
    "\n",
    "    try:\n",
    "        img = cv2.imread(img_path)\n",
    "        cnt += 1\n",
    "    except:\n",
    "        print('File not exists: ', img_path)\n",
    "        continue\n",
    "\n",
    "    # Draw boxes\n",
    "    for ann_id in ann_ids:\n",
    "        bbox = coco.loadAnns(ids=[ann_id])[0]['bbox']\n",
    "        p1 = bbox[0:2]\n",
    "        p2 = bbox[2:4]\n",
    "        p3 = bbox[4:6]\n",
    "        p4 = bbox[6:8]\n",
    "        ps = np.intp(np.array([p1, p2, p3, p4]))    \n",
    "        drawn_img = cv2.drawContours(img, [ps], -1, box_color, thickness=1)\n",
    "    cv2.imwrite(os.path.join(vis_home, img_name), drawn_img)\n",
    "\n",
    "print('Total images: ', len(coco.getImgIds()))\n",
    "print('Images saved: ', cnt)\n",
    "print('Done')"
   ]
  },
  {
   "cell_type": "code",
   "execution_count": null,
   "metadata": {},
   "outputs": [],
   "source": []
  }
 ],
 "metadata": {
  "kernelspec": {
   "display_name": "Python 3 (ipykernel)",
   "language": "python",
   "name": "python3"
  },
  "language_info": {
   "codemirror_mode": {
    "name": "ipython",
    "version": 3
   },
   "file_extension": ".py",
   "mimetype": "text/x-python",
   "name": "python",
   "nbconvert_exporter": "python",
   "pygments_lexer": "ipython3",
   "version": "3.11.4"
  }
 },
 "nbformat": 4,
 "nbformat_minor": 4
}
