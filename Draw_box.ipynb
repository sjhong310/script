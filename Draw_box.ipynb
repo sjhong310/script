{
 "cells": [
  {
   "cell_type": "markdown",
   "metadata": {},
   "source": [
    "## Draw box on image"
   ]
  },
  {
   "cell_type": "code",
   "execution_count": 54,
   "metadata": {},
   "outputs": [],
   "source": [
    "import xml.etree.ElementTree as ET\n",
    "import os\n",
    "import numpy as np\n",
    "\n",
    "\n",
    "def draw_box(img, anno):\n",
    "    \"\"\"Draw box on image\n",
    "    \n",
    "    Args:\n",
    "        img(ndarray): image file array\n",
    "        anno(xml.etree.ElementTree.Element): annotation element\n",
    "        \n",
    "    Returns:\n",
    "        img(ndarray): image with box array\n",
    "    \"\"\"\n",
    "    for obj in anno.findall('object'):\n",
    "        x1 = int(float(obj.find('robndbox').find('x1').text))\n",
    "        x2 = int(float(obj.find('robndbox').find('x2').text))\n",
    "        x3 = int(float(obj.find('robndbox').find('x3').text))\n",
    "        x4 = int(float(obj.find('robndbox').find('x4').text))\n",
    "        \n",
    "        y1 = int(float(obj.find('robndbox').find('y1').text))\n",
    "        y2 = int(float(obj.find('robndbox').find('y2').text))\n",
    "        y3 = int(float(obj.find('robndbox').find('y3').text))\n",
    "        y4 = int(float(obj.find('robndbox').find('y4').text))\n",
    "                \n",
    "        p1 = (x1, y1)\n",
    "        p2 = (x2, y2)\n",
    "        p3 = (x3, y3)\n",
    "        p4 = (x4, y4)\n",
    "        ps = np.int0(np.array([p1, p2, p3, p4]))\n",
    "        \n",
    "        box_color = (0, 0, 255) if obj.find('name').text == 'ship' else (255, 0, 0)\n",
    "        cv2.drawContours(img, [ps], -1, box_color, thickness=1)\n",
    "    \n",
    "    return img\n",
    "    "
   ]
  },
  {
   "cell_type": "code",
   "execution_count": 56,
   "metadata": {},
   "outputs": [],
   "source": [
    "for anno_name in os.listdir('img_tif/annotations'):\n",
    "    tree = ET.parse(os.path.join('img_tif', 'annotations', anno_name))\n",
    "    root = tree.getroot()\n",
    "    img_name = os.path.basename(root.find('path').text)\n",
    "    img = cv2.imread(os.path.join('img_tif', 'patch', img_name))\n",
    "    assert x is not None, 'Image not exists on the path: {}'.format(os.path.join('img_tif', 'patch', img_name))\n",
    "    drawn_img = draw_box(img, root)\n",
    "    cv2.imwrite(os.path.join('img_tif', 'images_sample', img_name), drawn_img)"
   ]
  },
  {
   "cell_type": "code",
   "execution_count": null,
   "metadata": {},
   "outputs": [],
   "source": []
  }
 ],
 "metadata": {
  "kernelspec": {
   "display_name": "Python 3",
   "language": "python",
   "name": "python3"
  },
  "language_info": {
   "codemirror_mode": {
    "name": "ipython",
    "version": 3
   },
   "file_extension": ".py",
   "mimetype": "text/x-python",
   "name": "python",
   "nbconvert_exporter": "python",
   "pygments_lexer": "ipython3",
   "version": "3.8.3"
  }
 },
 "nbformat": 4,
 "nbformat_minor": 4
}
