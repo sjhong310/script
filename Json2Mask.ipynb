{
 "cells": [
  {
   "cell_type": "markdown",
   "id": "ed90087c-6297-40b0-b61e-8a260636420b",
   "metadata": {},
   "source": [
    "## Json2Mask\n",
    "Extract a mask file from a Json\n",
    "\n",
    "Input: Mask Json files\n",
    "\n",
    "Output: Mask png files"
   ]
  },
  {
   "cell_type": "code",
   "execution_count": 104,
   "id": "9d542c35-1540-49be-9850-aa29bb111f30",
   "metadata": {},
   "outputs": [],
   "source": [
    "from PIL import Image, ImageDraw\n",
    "import os\n",
    "import json\n",
    "\n",
    "home = '../preliminary'\n",
    "paths = [os.path.join(home, name) for name in os.listdir(home)]\n",
    "for path in paths:\n",
    "    with open(path) as f:\n",
    "        data = json.load(f)\n",
    "\n",
    "    # Create a background image.\n",
    "    img = Image.new('RGB', [data['imageWidth'], data['imageHeight']], '#000000')\n",
    "    _img = ImageDraw.Draw(img)\n",
    "\n",
    "    # Draw polygons.\n",
    "    for shape in data['shapes']:\n",
    "        _t = [tuple(x) for x in shape['points']] # Point type must be tuple.\n",
    "        # TODO: Separate color by a label. (Currently only oil exists.)\n",
    "        _img.polygon(_t, fill=\"#ffffff\")  # Polygon color is white.\n",
    "\n",
    "    # Save a polygon image.\n",
    "    img.save(os.path.join(home, data['imagePath']))"
   ]
  },
  {
   "cell_type": "markdown",
   "id": "943cbe86-146b-4968-9035-cb94ced0c4b6",
   "metadata": {},
   "source": [
    "## Checking number of object patches\n",
    "Check how many patches actually include objects.\n",
    "\n",
    "Input: Mask png files"
   ]
  },
  {
   "cell_type": "code",
   "execution_count": 198,
   "id": "fa265f25-2bb2-44c9-aa24-0edc0b004c34",
   "metadata": {},
   "outputs": [],
   "source": [
    "def get_subimg(img, patch_size):\n",
    "    \"\"\"\n",
    "    Get a sub-image which of the minimum size to include patch areas\n",
    "    to count number of object patch images faster.\n",
    "    Size of the Sub-image is a mutiple of patch_size.\n",
    "\n",
    "    Args:\n",
    "        img(ndarray): Original boolean image array. shape:(h, w)\n",
    "        patch_size(int): Patch size.\n",
    "    Returns:\n",
    "        subimg(ndarray): Sub-image. shape: (h, w)\n",
    "    \"\"\"\n",
    "    y, x= np.where(img)\n",
    "    tx = min(x)\n",
    "    ty = min(y)\n",
    "    bx = max(x)\n",
    "    by = max(y)\n",
    "\n",
    "    sub_width = bx - tx + 1\n",
    "    if sub_width % patch_size != 0:\n",
    "        sub_width = patch_size * (sub_width // patch_size + 1)\n",
    "            \n",
    "    sub_height = by - ty + 1\n",
    "    if sub_height % patch_size != 0:\n",
    "        sub_height = patch_size * (sub_height // patch_size + 1)\n",
    "        \n",
    "    (height, width) = img.shape\n",
    "    cx = int((bx - tx) / 2) + tx\n",
    "    cy = int((by - ty) / 2) + ty\n",
    "\n",
    "    tx = cx - int(sub_width / 2)\n",
    "    bx = tx + sub_width - 1\n",
    "    ty = cy - int(sub_height / 2)\n",
    "    by = ty + sub_height - 1\n",
    "\n",
    "    if tx < 0:\n",
    "        tx = 0\n",
    "        bx = sub_width\n",
    "    elif bx >= width:\n",
    "        tx = width - sub_width\n",
    "        bx = width - 1\n",
    "\n",
    "    if ty < 0:\n",
    "        ty = 0\n",
    "        by = sub_height\n",
    "    elif by >= height:\n",
    "        ty = height - sub_height\n",
    "        by = height - 1\n",
    "    \n",
    "    subimg = img[ty:by+1, tx:bx+1]\n",
    "    return subimg"
   ]
  },
  {
   "cell_type": "code",
   "execution_count": 209,
   "id": "141228cf-c54d-4079-b805-daf89cc47cef",
   "metadata": {},
   "outputs": [
    {
     "name": "stdout",
     "output_type": "stream",
     "text": [
      "Num. object patches:  1100\n"
     ]
    }
   ],
   "source": [
    "import cv2\n",
    "import os\n",
    "\n",
    "home = '../preliminary'\n",
    "paths = [os.path.join(home, name) for name in os.listdir(home) if 'png' in name]\n",
    "patch_size = 224\n",
    "ovr_ratio = 0.5 # ovr_ratio must be in range of [0, 1)\n",
    "\n",
    "num_patches = 0\n",
    "for path in paths:\n",
    "    img = cv2.imread(path)  # black(0,0,0) or white(255,255,255) image\n",
    "    img = np.array(img[...,0], dtype=bool)\n",
    "    img = get_subimg(img, patch_size)\n",
    "    \n",
    "    height, width = img.shape\n",
    "    for c in range(0, height, patch_size - int(patch_size * ovr_ratio)):\n",
    "        for r in range(0, width, patch_size - int(patch_size * ovr_ratio)):\n",
    "            if True in img[c:c+patch_size, r:r+patch_size]:\n",
    "                num_patches += 1\n",
    "\n",
    "print('Num. object patches: ', num_patches)"
   ]
  },
  {
   "cell_type": "code",
   "execution_count": null,
   "id": "eff059b6-cd2b-4437-8442-807c9071029e",
   "metadata": {},
   "outputs": [],
   "source": []
  }
 ],
 "metadata": {
  "kernelspec": {
   "display_name": "Python 3 (ipykernel)",
   "language": "python",
   "name": "python3"
  },
  "language_info": {
   "codemirror_mode": {
    "name": "ipython",
    "version": 3
   },
   "file_extension": ".py",
   "mimetype": "text/x-python",
   "name": "python",
   "nbconvert_exporter": "python",
   "pygments_lexer": "ipython3",
   "version": "3.11.4"
  }
 },
 "nbformat": 4,
 "nbformat_minor": 5
}
