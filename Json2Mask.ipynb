{
 "cells": [
  {
   "cell_type": "markdown",
   "id": "ed90087c-6297-40b0-b61e-8a260636420b",
   "metadata": {},
   "source": [
    "## Json2Mask\n",
    "Extract a mask file from a Json"
   ]
  },
  {
   "cell_type": "code",
   "execution_count": null,
   "id": "9d542c35-1540-49be-9850-aa29bb111f30",
   "metadata": {},
   "outputs": [],
   "source": [
    "import os\n",
    "import json\n",
    "from PIL import Image, ImageDraw\n",
    "\n",
    "home = '../preliminary'\n",
    "paths = [os.path.join(home, name) for name in os.listdir(home)]\n",
    "for path in paths:\n",
    "    with open(path) as f:\n",
    "        data = json.load(f)\n",
    "\n",
    "    # Create a background image.\n",
    "    img = Image.new('RGB', [data['imageWidth'], data['imageHeight']], '#000000')\n",
    "    _img = ImageDraw.Draw(img)\n",
    "\n",
    "    # Draw polygons.\n",
    "    for shape in data['shapes']:\n",
    "        _t = [tuple(x) for x in shape['points']] # Point type must be tuple.\n",
    "        # TODO: Separate color by a label. (Currently only oil exists.)\n",
    "        _img.polygon(_t, fill=\"#ffffff\")  # Polygon color is white.\n",
    "\n",
    "    # Save a polygon image.\n",
    "    img.save(os.path.join(home, data['imagePath']))"
   ]
  },
  {
   "cell_type": "code",
   "execution_count": null,
   "id": "9155b9fa-4079-4fdf-81ce-0c63e445f71e",
   "metadata": {},
   "outputs": [],
   "source": []
  }
 ],
 "metadata": {
  "kernelspec": {
   "display_name": "Python 3 (ipykernel)",
   "language": "python",
   "name": "python3"
  },
  "language_info": {
   "codemirror_mode": {
    "name": "ipython",
    "version": 3
   },
   "file_extension": ".py",
   "mimetype": "text/x-python",
   "name": "python",
   "nbconvert_exporter": "python",
   "pygments_lexer": "ipython3",
   "version": "3.11.4"
  }
 },
 "nbformat": 4,
 "nbformat_minor": 5
}
