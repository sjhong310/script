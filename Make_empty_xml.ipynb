{
 "cells": [
  {
   "cell_type": "code",
   "execution_count": 5,
   "metadata": {},
   "outputs": [],
   "source": [
    "from xml.dom import minidom\n",
    "from xml.etree.ElementTree import Element, SubElement, ElementTree\n",
    "import xml.etree.ElementTree as ET\n",
    "import os\n",
    "\n",
    "\n",
    "home = 'work'\n",
    "img_dir = os.path.join(home, 'k5_negative')\n",
    "ann_dir = os.path.join(home, 'k5_negative_Annotations')\n",
    "os.makedirs(ann_dir, exist_ok=True)\n",
    "anns = os.listdir(ann_dir)\n",
    "empty = []\n",
    "for name in os.listdir(img_dir):\n",
    "    name = name[:-3] + 'xml'\n",
    "    if name not in anns:\n",
    "        empty.append(name)\n",
    "\n",
    "for name in empty:\n",
    "    root = Element('annotation')\n",
    "    root.attrib['verified'] = 'no'\n",
    "    SubElement(root, 'folder').text = 'empty'\n",
    "    SubElement(root, 'filename').text = name[:-4]\n",
    "    SubElement(root, 'path').text = 'empty'\n",
    "    source = SubElement(root, 'source')\n",
    "    SubElement(source, 'database').text = 'Unknown'\n",
    "\n",
    "    size = SubElement(root, 'size')\n",
    "    SubElement(size, 'width').text = '1024'\n",
    "    SubElement(size, 'height').text = '1024'\n",
    "    SubElement(size, 'depth').text = '1'\n",
    "    SubElement(root, 'segmented').text = '0'\n",
    "    \n",
    "    xmlstr = minidom.parseString(ET.tostring(root)).toprettyxml(indent='  ')\n",
    "    xmlstr = \"\\n\".join(line for line in xmlstr.split(\"\\n\") if line.strip())\n",
    "    save_path = os.path.join(ann_dir, name)\n",
    "    with open(save_path, 'w') as f:\n",
    "        f.write(xmlstr)"
   ]
  },
  {
   "cell_type": "code",
   "execution_count": 6,
   "metadata": {},
   "outputs": [
    {
     "data": {
      "text/plain": [
       "'work/k5_negative_Annotations/K5_20191014054631_004046_33735_A_ES13_HH_SCS_B_L1A_6915_5180_7938_6203.xml'"
      ]
     },
     "execution_count": 6,
     "metadata": {},
     "output_type": "execute_result"
    }
   ],
   "source": [
    "save_path"
   ]
  },
  {
   "cell_type": "code",
   "execution_count": null,
   "metadata": {},
   "outputs": [],
   "source": []
  }
 ],
 "metadata": {
  "kernelspec": {
   "display_name": "Python 3 (ipykernel)",
   "language": "python",
   "name": "python3"
  },
  "language_info": {
   "codemirror_mode": {
    "name": "ipython",
    "version": 3
   },
   "file_extension": ".py",
   "mimetype": "text/x-python",
   "name": "python",
   "nbconvert_exporter": "python",
   "pygments_lexer": "ipython3",
   "version": "3.8.16"
  }
 },
 "nbformat": 4,
 "nbformat_minor": 2
}
