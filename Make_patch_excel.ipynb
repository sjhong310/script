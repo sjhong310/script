{
 "cells": [
  {
   "cell_type": "markdown",
   "metadata": {},
   "source": [
    "## Make patch list excel\n",
    "Read image list and convert it to excel"
   ]
  },
  {
   "cell_type": "code",
   "execution_count": 61,
   "metadata": {},
   "outputs": [],
   "source": [
    "import os\n",
    "import pandas as pd\n",
    "from natsort import natsorted\n",
    "\n",
    "img_home = 'KOMPSAT-5/Images_patch'\n",
    "sheet_name = 'KOMPSAT-5'\n",
    "excel_path = 'SAR_patches.xlsx'\n",
    "\n",
    "patch_list = natsorted(os.listdir(img_home))\n",
    "scene_list = [name[:50] for name in patch_list]\n",
    "df = pd.DataFrame({'No.': list(range(1, len(patch_list)+1)),\n",
    "                   'Scene': scene_list,\n",
    "                   'Patch': patch_list})\n",
    "df['Worker'] = ''  # add an empty column\n",
    "df['Done'] = ''\n",
    "\n",
    "# Get the dimensions of the dataframe.\n",
    "(max_row, max_col) = df.shape\n",
    "\n",
    "# Create the list where we 'll capture the cells that appear for 1st time,\n",
    "# add the 1st row and we start checking from 2nd row until end of df\n",
    "startCells = [1]\n",
    "for row in range(2,len(df)+1):\n",
    "    if (df.loc[row-1,'Scene'] != df.loc[row-2,'Scene']): \n",
    "        startCells.append(row)\n",
    "\n",
    "# Create a Pandas Excel writer using XlsxWriter as the engine.\n",
    "writer = pd.ExcelWriter(excel_path, engine='xlsxwriter')\n",
    "\n",
    "# Convert the dataframe to an XlsxWriter Excel object. Turn off the default\n",
    "# header and index and skip one row to allow us to insert a user defined header.\n",
    "df.to_excel(writer, sheet_name=sheet_name, startrow=0, header=True, index=False)\n",
    "\n",
    "# Get the xlsxwriter workbook and worksheet objects.\n",
    "workbook = writer.book\n",
    "worksheet = writer.sheets[sheet_name]\n",
    "\n",
    "for row in startCells:\n",
    "    try:\n",
    "        endRow = startCells[startCells.index(row)+1]-1\n",
    "        if row != endRow:\n",
    "            worksheet.merge_range(row, 1, endRow, 1, df.loc[row-1,'Scene'])\n",
    "    except IndexError as e:\n",
    "        if row != max_row:\n",
    "            worksheet.merge_range(row, 1, max_row, 1, df.loc[row-1,'Scene'])\n",
    "        else:\n",
    "            print(e)\n",
    "\n",
    "# Set formats of columns and head \n",
    "head_format = workbook.add_format({'align': 'center', 'valign': 'vcenter', 'border': 1, 'bg_color': 'D9D9D9'})\n",
    "border_format = workbook.add_format({'border': 1})\n",
    "center_format = workbook.add_format({'align': 'center', 'valign': 'vcenter'})\n",
    "left_format = workbook.add_format({'align': 'left', 'valign': 'vcenter'})\n",
    "\n",
    "worksheet.conditional_format(1, 0, max_row, max_col-1, {'type': 'no_blanks', 'format': border_format})\n",
    "worksheet.conditional_format(1, 0, max_row, max_col-1, {'type': 'blanks', 'format': border_format})\n",
    "worksheet.conditional_format(1, 2, max_row, 2, {'type': 'no_blanks', 'format': border_format})\n",
    "worksheet.conditional_format(0, 0, 0, max_col-1, {'type': 'no_blanks', 'format': head_format})\n",
    "worksheet.set_column(0,max_col-1, None, center_format)\n",
    "worksheet.set_column(2,2, None, left_format)\n",
    "worksheet.autofit()  # autofitting of column widths\n",
    "            \n",
    "# Close the Pandas Excel writer and output the Excel file.\n",
    "writer.close()"
   ]
  },
  {
   "cell_type": "code",
   "execution_count": null,
   "metadata": {},
   "outputs": [],
   "source": []
  }
 ],
 "metadata": {
  "kernelspec": {
   "display_name": "Python 3",
   "language": "python",
   "name": "python3"
  },
  "language_info": {
   "codemirror_mode": {
    "name": "ipython",
    "version": 3
   },
   "file_extension": ".py",
   "mimetype": "text/x-python",
   "name": "python",
   "nbconvert_exporter": "python",
   "pygments_lexer": "ipython3",
   "version": "3.8.10"
  }
 },
 "nbformat": 4,
 "nbformat_minor": 4
}
