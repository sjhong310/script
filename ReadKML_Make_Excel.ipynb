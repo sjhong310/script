{
 "cells": [
  {
   "cell_type": "markdown",
   "id": "27f3e385-82cb-4b70-b7d0-4bce08315a80",
   "metadata": {},
   "source": [
    "## Read KML files"
   ]
  },
  {
   "cell_type": "code",
   "execution_count": 55,
   "id": "450f6033-3395-432a-8693-d62b1e94d578",
   "metadata": {},
   "outputs": [],
   "source": [
    "from fastkml import kml\n",
    "import zipfile\n",
    "\n",
    "kmzs = ['ICEYE_archive_catalog_2024.kmz', 'ICEYE_archive_catalog_2023.kmz', 'ICEYE_archive_catalog_2022.kmz']\n",
    "folder_names = []\n",
    "for kmz in kmzs:\n",
    "    # read KML content \n",
    "    kmz = zipfile.ZipFile(kmz, 'r')  # extract zip file first, then read kmz file inside the extracted folder\n",
    "    kml_name = kmz.namelist()[0]\n",
    "    kml_content = kmz.open(kml_name, 'r').read()  # kml content\n",
    "    \n",
    "    # create KML object\n",
    "    k = kml.KML()\n",
    "    k.from_string(kml_content)\n",
    "    \n",
    "    document = list(k.features())\n",
    "    parent_folder = list(document[0].features())\n",
    "    folders = list(parent_folder[0].features())    \n",
    "    subfolder_names = []\n",
    "    for folder in folders:\n",
    "        subfolder_names.append(folder.name[14:])\n",
    "    folder_names.append(subfolder_names)"
   ]
  },
  {
   "cell_type": "markdown",
   "id": "60048abf-3127-44e2-b864-61bd16afdbd8",
   "metadata": {},
   "source": [
    "## Make an Excel file"
   ]
  },
  {
   "cell_type": "code",
   "execution_count": 61,
   "id": "10ee862f-c6bc-4a04-b3f1-f7f9fb90c636",
   "metadata": {},
   "outputs": [],
   "source": [
    "import os\n",
    "import pandas as pd\n",
    "from natsort import natsorted\n",
    "\n",
    "sheet_names = ['2024', '2023', '2022']\n",
    "excel_path = 'ICEYE_Archive.xlsx'\n",
    "\n",
    "# Create a Pandas Excel writer using XlsxWriter as the engine.\n",
    "writer = pd.ExcelWriter(excel_path, engine='xlsxwriter')\n",
    "\n",
    "# Get the xlsxwriter workbook.\n",
    "workbook = writer.book\n",
    "\n",
    "# Set formats of columns and head \n",
    "head_format = workbook.add_format({'align': 'center', 'valign': 'vcenter', 'border': 1, 'bg_color': 'D9D9D9'})\n",
    "border_format = workbook.add_format({'border': 1})\n",
    "center_format = workbook.add_format({'align': 'center', 'valign': 'vcenter'})\n",
    "left_format = workbook.add_format({'align': 'left', 'valign': 'vcenter'})\n",
    "\n",
    "for idx in range(len(kmzs)):\n",
    "    df = pd.DataFrame({'No.': list(range(1, len(folder_names[idx])+1)),\n",
    "                       'Scene ID': folder_names[idx]})\n",
    "    df['Worker'] = ''  # add an empty column\n",
    "    df['OilSpill'] = ''\n",
    "    \n",
    "    # Get the dimensions of the dataframe.\n",
    "    (max_row, max_col) = df.shape\n",
    "    \n",
    "    # Convert the dataframe to an XlsxWriter Excel object. Turn off the default\n",
    "    # header and index and skip one row to allow us to insert a user defined header.\n",
    "    df.to_excel(writer, sheet_name=sheet_names[idx], startrow=0, header=True, index=False)\n",
    "    \n",
    "    # Get worksheet objects.\n",
    "    worksheet = writer.sheets[sheet_names[idx]]    \n",
    "    worksheet.conditional_format(1, 0, max_row, max_col-1, {'type': 'no_blanks', 'format': border_format})\n",
    "    worksheet.conditional_format(1, 0, max_row, max_col-1, {'type': 'blanks', 'format': border_format})\n",
    "    worksheet.conditional_format(1, 2, max_row, 2, {'type': 'no_blanks', 'format': border_format})\n",
    "    worksheet.conditional_format(0, 0, 0, max_col-1, {'type': 'no_blanks', 'format': head_format})\n",
    "    worksheet.set_column(0,max_col-1, None, center_format)\n",
    "    worksheet.set_column(2,2, None, left_format)\n",
    "    worksheet.autofit()  # autofitting of column widths\n",
    "\n",
    "# Close the Pandas Excel writer and output the Excel file.\n",
    "writer.close()"
   ]
  },
  {
   "cell_type": "code",
   "execution_count": null,
   "id": "67893fcc-6335-4e29-bc81-2bfb0798a6bc",
   "metadata": {},
   "outputs": [],
   "source": []
  }
 ],
 "metadata": {
  "kernelspec": {
   "display_name": "Python 3 (ipykernel)",
   "language": "python",
   "name": "python3"
  },
  "language_info": {
   "codemirror_mode": {
    "name": "ipython",
    "version": 3
   },
   "file_extension": ".py",
   "mimetype": "text/x-python",
   "name": "python",
   "nbconvert_exporter": "python",
   "pygments_lexer": "ipython3",
   "version": "3.11.4"
  }
 },
 "nbformat": 4,
 "nbformat_minor": 5
}
