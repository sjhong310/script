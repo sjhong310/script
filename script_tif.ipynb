{
 "cells": [
  {
   "cell_type": "markdown",
   "metadata": {},
   "source": [
    "## Script for TIF file\n",
    "#### Convert TIF to PNG\n",
    "#### Save tile PNG image"
   ]
  },
  {
   "cell_type": "code",
   "execution_count": 18,
   "metadata": {},
   "outputs": [],
   "source": [
    "import cv2\n",
    "import numpy as np\n",
    "import os\n",
    "\n",
    "from scipy import signal\n",
    "\n",
    "def convert_img(img, pmin=80, pmax=98):\n",
    "    \"\"\"Convert image to 8bit file\n",
    "    \n",
    "    Convert image to 8bit file and visualize it for labeling\n",
    "    \n",
    "    Args:\n",
    "        img(ndarray): image file array\n",
    "        pmin(int): percentile of minimum value. Default: 80 %\n",
    "        pmax(int): percentile of maximum value. Default: 98 %\n",
    "    \n",
    "    Returns:\n",
    "        img_8bit_med(ndarray): visualized image file array\n",
    "    \"\"\"\n",
    "    # cut values outside of pmin% ~ pmax% of image value\n",
    "    percentile = np.nanpercentile(img, [pmin, pmax])\n",
    "    img[img < percentile[0]] = percentile[0]\n",
    "    img[img > percentile[1]] = percentile[1]    \n",
    "\n",
    "    img_max = np.max(img)\n",
    "    img_min = np.min(img)\n",
    "    img_8bit = np.uint8((img - img_min) / (img_max - img_min) * 255)\n",
    "    img_8bit_med = signal.medfilt2d(img_8bit, kernel_size=3)\n",
    "\n",
    "    return img_8bit_med\n",
    "\n",
    "def save_tile_img(img, save_home, base_name='', size=1024, ovr=10, is_apply_pad=True):\n",
    "    \"\"\"Save image into tile image\n",
    "    \n",
    "    Args:\n",
    "        img(ndarray): image file array\n",
    "        save_home(str): Save path to directory\n",
    "        base_name(str): Base name of tile images. E.g., {base_name}_xmin_ymin_xmax_ymax.png\n",
    "        size(int): size of tile image. Image is square.\n",
    "        ovr(int): overap ratio of adjacent tile image. Default: 10 %\n",
    "        is_apply_pad (bool): Whether to apply padding area. Default: True\n",
    "    \"\"\"\n",
    "    print('Saving tile image...')\n",
    "    \n",
    "    assert os.path.isdir(save_home), '{} not exists'.format(save_home)        \n",
    "    \n",
    "    az, rg = img.shape\n",
    "    assert az >= size, 'Given image {} is smaller than tile image {}'.format(img.shape, size)\n",
    "    assert rg >= size, 'Given image {} is smaller than tile image {}'.format(img.shape, size)    \n",
    "    \n",
    "    for a in range(0, az, size):\n",
    "        print('Processing {} / {} line...'.format(a, az))\n",
    "        ymin = a\n",
    "        ymax = ymin + size\n",
    "             \n",
    "        if ymax >= az:\n",
    "            ymax = az            \n",
    "            if not is_apply_pad:\n",
    "                ymin = az - patch_size\n",
    "                    \n",
    "        for r in range(0, rg, size):\n",
    "            xmin = r\n",
    "            xmax = xmin + size\n",
    "            \n",
    "            if xmax > rg:                \n",
    "                xmax = rg\n",
    "                if not is_apply_pad:\n",
    "                    xmin = rg - patch_size\n",
    "                \n",
    "            if is_apply_pad:\n",
    "                patch_img = np.zeros([size, size])\n",
    "                patch_img[:ymax - ymin, :xmax - xmin] = img[ymin:ymax, xmin:xmax]\n",
    "            else:\n",
    "                patch_img = img[ymin:ymax, xmin:xmax]\n",
    "                \n",
    "            img_name = base_name + '_{}_{}_{}_{}.png'.format(xmin, ymin, xmax, ymax)\n",
    "            assert cv2.imwrite(os.path.join(save_home, img_name), patch_img)\n",
    "            \n",
    "    print('Done')"
   ]
  },
  {
   "cell_type": "code",
   "execution_count": 7,
   "metadata": {},
   "outputs": [],
   "source": [
    "import PIL\n",
    "import numpy as np\n",
    "\n",
    "from PIL import Image\n",
    "PIL.Image.MAX_IMAGE_PIXELS = 933120000  # None is also possible\n",
    "\n",
    "img = Image.open('img_tif/s1a-iw-grd-vv-20210712t095500-20210712t095525-038743-04925c-001.tiff')\n",
    "img = np.array(img, dtype=np.float64)"
   ]
  },
  {
   "cell_type": "code",
   "execution_count": 19,
   "metadata": {},
   "outputs": [
    {
     "name": "stdout",
     "output_type": "stream",
     "text": [
      "Saving tile image...\n",
      "Processing 0 / 16718 line...\n",
      "Processing 1024 / 16718 line...\n",
      "Processing 2048 / 16718 line...\n",
      "Processing 3072 / 16718 line...\n",
      "Processing 4096 / 16718 line...\n",
      "Processing 5120 / 16718 line...\n",
      "Processing 6144 / 16718 line...\n",
      "Processing 7168 / 16718 line...\n",
      "Processing 8192 / 16718 line...\n",
      "Processing 9216 / 16718 line...\n",
      "Processing 10240 / 16718 line...\n",
      "Processing 11264 / 16718 line...\n",
      "Processing 12288 / 16718 line...\n",
      "Processing 13312 / 16718 line...\n",
      "Processing 14336 / 16718 line...\n",
      "Processing 15360 / 16718 line...\n",
      "Processing 16384 / 16718 line...\n",
      "Done\n"
     ]
    }
   ],
   "source": [
    "intensity_cvt = convert_img(img, pmin=80, pmax=98)\n",
    "save_home = 'img_tif/patch'\n",
    "tiff_name = '20210712t095500_VV'\n",
    "save_tile_img(intensity_cvt, save_home, tiff_name, size=1024, ovr=10)"
   ]
  },
  {
   "cell_type": "code",
   "execution_count": 20,
   "metadata": {},
   "outputs": [
    {
     "data": {
      "text/plain": [
       "(16718, 25502)"
      ]
     },
     "execution_count": 20,
     "metadata": {},
     "output_type": "execute_result"
    }
   ],
   "source": [
    "img.shape"
   ]
  },
  {
   "cell_type": "code",
   "execution_count": null,
   "metadata": {},
   "outputs": [],
   "source": []
  }
 ],
 "metadata": {
  "kernelspec": {
   "display_name": "Python 3",
   "language": "python",
   "name": "python3"
  },
  "language_info": {
   "codemirror_mode": {
    "name": "ipython",
    "version": 3
   },
   "file_extension": ".py",
   "mimetype": "text/x-python",
   "name": "python",
   "nbconvert_exporter": "python",
   "pygments_lexer": "ipython3",
   "version": "3.8.3"
  }
 },
 "nbformat": 4,
 "nbformat_minor": 4
}
